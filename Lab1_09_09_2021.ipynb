{
  "nbformat": 4,
  "nbformat_minor": 0,
  "metadata": {
    "colab": {
      "name": "Lab1-09-09-2021.ipynb",
      "provenance": [],
      "include_colab_link": true
    },
    "kernelspec": {
      "name": "python3",
      "display_name": "Python 3"
    },
    "language_info": {
      "name": "python"
    }
  },
  "cells": [
    {
      "cell_type": "markdown",
      "metadata": {
        "id": "view-in-github",
        "colab_type": "text"
      },
      "source": [
        "<a href=\"https://colab.research.google.com/github/diego-faria-br/Lab---DGA/blob/main/Lab1_09_09_2021.ipynb\" target=\"_parent\"><img src=\"https://colab.research.google.com/assets/colab-badge.svg\" alt=\"Open In Colab\"/></a>"
      ]
    },
    {
      "cell_type": "markdown",
      "metadata": {
        "id": "ldBuEAP1vC5Q"
      },
      "source": [
        "##1. Github/Jupyter Notebooks/Google Collab"
      ]
    },
    {
      "cell_type": "markdown",
      "metadata": {
        "id": "hIx2xlHvp-jI"
      },
      "source": [
        "## 2. Strings\n",
        "\n",
        "2.1 Write a program that get your name and writes a greeting"
      ]
    },
    {
      "cell_type": "code",
      "metadata": {
        "id": "nRKl1OKMqF_X"
      },
      "source": [
        "name = input(\"Your name: \")\n",
        "print(\"Hello\", name,\"!\")"
      ],
      "execution_count": null,
      "outputs": []
    },
    {
      "cell_type": "markdown",
      "metadata": {
        "id": "72aP6ExJqOFW"
      },
      "source": [
        "\n",
        "  2.2 Change the program to greet only you (your name), in CAPITALIZED letters, and writes nothing otherwise."
      ]
    },
    {
      "cell_type": "markdown",
      "metadata": {
        "id": "rK-9RlvOqOOs"
      },
      "source": [
        "2.3 Modify the program to write something only when the name starts with the same letter of your name"
      ]
    },
    {
      "cell_type": "markdown",
      "metadata": {
        "id": "SYUMTePNqsea"
      },
      "source": [
        "##3. Numbers\n",
        "\n",
        "3.1 Write a program that asks for the temperature in Celsius and converts it to Fahrenheit.\n",
        "\n",
        "3.2 Considering that the size of your group (39 students), and  that you will form groups of 4 for your final projects. How many groups of 4 are possible, how many students are left?\n"
      ]
    },
    {
      "cell_type": "markdown",
      "metadata": {
        "id": "FI0vavHtr0Gi"
      },
      "source": [
        "### 4. Boolean\n",
        "\n",
        "Here is a very simple decision algorithm. Is the person allowed to drive?"
      ]
    },
    {
      "cell_type": "code",
      "metadata": {
        "id": "Bv7LT_49tvNe"
      },
      "source": [
        "#Step1 the criteria\n",
        "DL = input(\"Do you have a driver's licence? (Y/N)\")\n",
        "\n",
        "Sober = input(\"Are you sober? (Y/N)\")\n",
        "\n",
        "#Step 2 the conditions\n",
        "\n",
        "if DL=='Y' and Sober=='Y':\n",
        "  print(\"Fine! Have a nice trip and respect the speed limits!\")"
      ],
      "execution_count": null,
      "outputs": []
    },
    {
      "cell_type": "markdown",
      "metadata": {
        "id": "eIRaw-8zuYRj"
      },
      "source": [
        "\n",
        "Write a program that checks the elegibility of someone for a social program.  The requirement is that the person is unemployed and have a household income per capita bellow 1000 euros or 1500 euros if there are children in the house.\n",
        "\n",
        "Hints: **Step 1** - Create variables for each each criteria\n",
        "       **Step 2** - Test the conditions if \"if\" clauses"
      ]
    }
  ]
}